{
 "cells": [
  {
   "cell_type": "markdown",
   "metadata": {},
   "source": [
    "# FOR REGRESSION"
   ]
  },
  {
   "cell_type": "markdown",
   "metadata": {},
   "source": []
  },
  {
   "cell_type": "code",
   "execution_count": 28,
   "metadata": {},
   "outputs": [],
   "source": [
    "import numpy as np \n",
    "import pandas as pd"
   ]
  },
  {
   "cell_type": "code",
   "execution_count": 29,
   "metadata": {},
   "outputs": [],
   "source": [
    "df = pd.DataFrame([[8,8,4],[7,9,5],[6,10,6],[5,12,7]], columns=['cgpa', 'profile_score', 'lpa'])"
   ]
  },
  {
   "cell_type": "code",
   "execution_count": 30,
   "metadata": {},
   "outputs": [
    {
     "data": {
      "text/html": [
       "<div>\n",
       "<style scoped>\n",
       "    .dataframe tbody tr th:only-of-type {\n",
       "        vertical-align: middle;\n",
       "    }\n",
       "\n",
       "    .dataframe tbody tr th {\n",
       "        vertical-align: top;\n",
       "    }\n",
       "\n",
       "    .dataframe thead th {\n",
       "        text-align: right;\n",
       "    }\n",
       "</style>\n",
       "<table border=\"1\" class=\"dataframe\">\n",
       "  <thead>\n",
       "    <tr style=\"text-align: right;\">\n",
       "      <th></th>\n",
       "      <th>cgpa</th>\n",
       "      <th>profile_score</th>\n",
       "      <th>lpa</th>\n",
       "    </tr>\n",
       "  </thead>\n",
       "  <tbody>\n",
       "    <tr>\n",
       "      <th>0</th>\n",
       "      <td>8</td>\n",
       "      <td>8</td>\n",
       "      <td>4</td>\n",
       "    </tr>\n",
       "    <tr>\n",
       "      <th>1</th>\n",
       "      <td>7</td>\n",
       "      <td>9</td>\n",
       "      <td>5</td>\n",
       "    </tr>\n",
       "    <tr>\n",
       "      <th>2</th>\n",
       "      <td>6</td>\n",
       "      <td>10</td>\n",
       "      <td>6</td>\n",
       "    </tr>\n",
       "    <tr>\n",
       "      <th>3</th>\n",
       "      <td>5</td>\n",
       "      <td>12</td>\n",
       "      <td>7</td>\n",
       "    </tr>\n",
       "  </tbody>\n",
       "</table>\n",
       "</div>"
      ],
      "text/plain": [
       "   cgpa  profile_score  lpa\n",
       "0     8              8    4\n",
       "1     7              9    5\n",
       "2     6             10    6\n",
       "3     5             12    7"
      ]
     },
     "execution_count": 30,
     "metadata": {},
     "output_type": "execute_result"
    }
   ],
   "source": [
    "df"
   ]
  },
  {
   "cell_type": "code",
   "execution_count": 31,
   "metadata": {},
   "outputs": [],
   "source": [
    "def initialize_parameters(layer_dims):\n",
    "    np.random.seed(3)\n",
    "    parameters={}\n",
    "    L=len(layer_dims)\n",
    "\n",
    "    for l in range(1,L):\n",
    "        parameters['w'+ str(l)]=np.ones((layer_dims[l-1],layer_dims[l]))*0.1\n",
    "        parameters['b'+ str(l)]=np.zeros((layer_dims[l],1))\n",
    "    \n",
    "    return parameters"
   ]
  },
  {
   "cell_type": "code",
   "execution_count": 32,
   "metadata": {},
   "outputs": [
    {
     "data": {
      "text/plain": [
       "{'w1': array([[0.1, 0.1, 0.1],\n",
       "        [0.1, 0.1, 0.1],\n",
       "        [0.1, 0.1, 0.1]]),\n",
       " 'b1': array([[0.],\n",
       "        [0.],\n",
       "        [0.]]),\n",
       " 'w2': array([[0.1],\n",
       "        [0.1],\n",
       "        [0.1]]),\n",
       " 'b2': array([[0.]])}"
      ]
     },
     "execution_count": 32,
     "metadata": {},
     "output_type": "execute_result"
    }
   ],
   "source": [
    "initialize_parameters([3,3,1])"
   ]
  },
  {
   "cell_type": "code",
   "execution_count": 33,
   "metadata": {},
   "outputs": [],
   "source": [
    "def linear_forward(A_prev,w,b):\n",
    "    z=np.dot(w.T,A_prev)+b\n",
    "\n",
    "    return z"
   ]
  },
  {
   "cell_type": "code",
   "execution_count": 34,
   "metadata": {},
   "outputs": [],
   "source": [
    "# forward Prop\n",
    "\n",
    "def L_layer_forword(X,parameters):\n",
    "    A=X\n",
    "    L=len(parameters)//2\n",
    "\n",
    "    for l in range(1,L+1):\n",
    "        A_prev=A\n",
    "        w1=parameters['w'+str(l)]\n",
    "        b1=parameters['b'+ str(1)]\n",
    "\n",
    "        # print(\"A\"+str(l-1)+\": \", A_prev)\n",
    "        # print(\"W\"+str(l)+\": \", w1)\n",
    "        # print(\"b\"+str(l)+\": \", b1)\n",
    "        # print(\"--\"*20)\n",
    "\n",
    "        A = linear_forward(A_prev,w1,b1)\n",
    "        # print(\"A\"+str(l)+\": \", A)\n",
    "        # print(\"**\"*20)\n",
    "\n",
    "    return A,A_prev"
   ]
  },
  {
   "cell_type": "code",
   "execution_count": 35,
   "metadata": {},
   "outputs": [],
   "source": [
    "X=df[['cgpa','profile_score']].values[0].reshape(2,1) # Shape(no of features, no. of training example)\n",
    "y = df[['lpa']].values[0][0]\n",
    "\n",
    "# Parameter initialization\n",
    "parameters=initialize_parameters([2,2,1])\n",
    "\n",
    "\n",
    "y_hat,A1 = L_layer_forword(X, parameters)"
   ]
  },
  {
   "cell_type": "code",
   "execution_count": 36,
   "metadata": {},
   "outputs": [],
   "source": [
    "y_hat=y_hat[0][0]"
   ]
  },
  {
   "cell_type": "code",
   "execution_count": 37,
   "metadata": {},
   "outputs": [
    {
     "data": {
      "text/plain": [
       "array([[1.6],\n",
       "       [1.6]])"
      ]
     },
     "execution_count": 37,
     "metadata": {},
     "output_type": "execute_result"
    }
   ],
   "source": [
    "A1"
   ]
  },
  {
   "cell_type": "code",
   "execution_count": 38,
   "metadata": {},
   "outputs": [],
   "source": [
    "def update_parameters(parameters, y, y_hat, A1, X):\n",
    "  parameters['w2'][0][0] = parameters['w2'][0][0] + (0.001 * 2 * (y - y_hat) * A1[0][0])\n",
    "  parameters['w2'][1][0] = parameters['w2'][1][0] + (0.001 * 2 * (y - y_hat) * A1[1][0])\n",
    "  parameters['b2'][0][0] = parameters['w2'][1][0] + (0.001 * 2 * (y - y_hat))\n",
    "\n",
    "  parameters['w1'][0][0] = parameters['w1'][0][0] + (0.001 * 2 * (y - y_hat) * parameters['w2'][0][0] * X[0][0])\n",
    "  parameters['w1'][0][1] = parameters['w1'][0][1] + (0.001 * 2 * (y - y_hat) * parameters['w2'][0][0] * X[1][0])\n",
    "  parameters['b1'][0][0] = parameters['b1'][0][0] + (0.001 * 2 * (y - y_hat) * parameters['w2'][0][0])\n",
    "\n",
    "  parameters['w1'][1][0] = parameters['w1'][1][0] + (0.001 * 2 * (y - y_hat) * parameters['w2'][1][0] * X[0][0])\n",
    "  parameters['w1'][1][1] = parameters['w1'][1][1] + (0.001 * 2 * (y - y_hat) * parameters['w2'][1][0] * X[1][0])\n",
    "  parameters['b1'][1][0] = parameters['b1'][1][0] + (0.001 * 2 * (y - y_hat) * parameters['w2'][1][0])\n"
   ]
  },
  {
   "cell_type": "code",
   "execution_count": 40,
   "metadata": {},
   "outputs": [
    {
     "name": "stdout",
     "output_type": "stream",
     "text": [
      "Epoch -  1 Loss -  26.4113110290402\n",
      "Epoch -  2 Loss -  19.771187860929913\n",
      "Epoch -  3 Loss -  10.366593118435027\n",
      "Epoch -  4 Loss -  3.4196166154073717\n",
      "Epoch -  5 Loss -  1.3101985375175014\n"
     ]
    },
    {
     "data": {
      "text/plain": [
       "{'w1': array([[0.27578154, 0.40281331],\n",
       "        [0.29040392, 0.42996175]]),\n",
       " 'b1': array([[0.02920297],\n",
       "        [0.0317388 ]]),\n",
       " 'w2': array([[0.42932902],\n",
       "        [0.50706534]]),\n",
       " 'b2': array([[0.51042994]])}"
      ]
     },
     "execution_count": 40,
     "metadata": {},
     "output_type": "execute_result"
    }
   ],
   "source": [
    "# epochs implementation\n",
    "\n",
    "parameters = initialize_parameters([2,2,1])\n",
    "epochs=5\n",
    "\n",
    "for i in range(epochs):\n",
    "    Loss=[]\n",
    "\n",
    "    for j in range(df.shape[0]):\n",
    "        X=df[['cgpa','profile_score']].values[j].reshape(2,1) # Shape(no of features, no. of training example)\n",
    "        y=df[['lpa']].values[j][0]\n",
    "\n",
    "        y_hat,A1=L_layer_forword(X,parameters)\n",
    "        y_hat=y_hat[0][0]\n",
    "\n",
    "        update_parameters(parameters,y,y_hat,A1,X)\n",
    "\n",
    "        Loss.append((y-y_hat)**2)\n",
    "    print('Epoch - ',i+1,'Loss - ',np.array(Loss).mean())\n",
    "\n",
    "parameters\n"
   ]
  },
  {
   "cell_type": "code",
   "execution_count": null,
   "metadata": {},
   "outputs": [],
   "source": []
  },
  {
   "cell_type": "markdown",
   "metadata": {},
   "source": [
    "# for Classification"
   ]
  },
  {
   "cell_type": "markdown",
   "metadata": {},
   "source": [
    "import numpy as np\n",
    "import pandas as pd"
   ]
  },
  {
   "cell_type": "code",
   "execution_count": 41,
   "metadata": {},
   "outputs": [],
   "source": [
    "import numpy as np\n",
    "import pandas as pd"
   ]
  },
  {
   "cell_type": "markdown",
   "metadata": {},
   "source": []
  },
  {
   "cell_type": "code",
   "execution_count": 42,
   "metadata": {},
   "outputs": [],
   "source": [
    "df = pd.DataFrame([[8,8,1],[7,9,1],[6,10,0],[5,5,0]], columns=['cgpa', 'profile_score', 'placed'])"
   ]
  },
  {
   "cell_type": "code",
   "execution_count": 43,
   "metadata": {},
   "outputs": [
    {
     "data": {
      "text/html": [
       "<div>\n",
       "<style scoped>\n",
       "    .dataframe tbody tr th:only-of-type {\n",
       "        vertical-align: middle;\n",
       "    }\n",
       "\n",
       "    .dataframe tbody tr th {\n",
       "        vertical-align: top;\n",
       "    }\n",
       "\n",
       "    .dataframe thead th {\n",
       "        text-align: right;\n",
       "    }\n",
       "</style>\n",
       "<table border=\"1\" class=\"dataframe\">\n",
       "  <thead>\n",
       "    <tr style=\"text-align: right;\">\n",
       "      <th></th>\n",
       "      <th>cgpa</th>\n",
       "      <th>profile_score</th>\n",
       "      <th>placed</th>\n",
       "    </tr>\n",
       "  </thead>\n",
       "  <tbody>\n",
       "    <tr>\n",
       "      <th>0</th>\n",
       "      <td>8</td>\n",
       "      <td>8</td>\n",
       "      <td>1</td>\n",
       "    </tr>\n",
       "    <tr>\n",
       "      <th>1</th>\n",
       "      <td>7</td>\n",
       "      <td>9</td>\n",
       "      <td>1</td>\n",
       "    </tr>\n",
       "    <tr>\n",
       "      <th>2</th>\n",
       "      <td>6</td>\n",
       "      <td>10</td>\n",
       "      <td>0</td>\n",
       "    </tr>\n",
       "    <tr>\n",
       "      <th>3</th>\n",
       "      <td>5</td>\n",
       "      <td>5</td>\n",
       "      <td>0</td>\n",
       "    </tr>\n",
       "  </tbody>\n",
       "</table>\n",
       "</div>"
      ],
      "text/plain": [
       "   cgpa  profile_score  placed\n",
       "0     8              8       1\n",
       "1     7              9       1\n",
       "2     6             10       0\n",
       "3     5              5       0"
      ]
     },
     "execution_count": 43,
     "metadata": {},
     "output_type": "execute_result"
    }
   ],
   "source": [
    "df.head()"
   ]
  },
  {
   "cell_type": "code",
   "execution_count": 44,
   "metadata": {},
   "outputs": [],
   "source": [
    "def initialize_parameters(layer_dims):\n",
    "  \n",
    "  np.random.seed(3)\n",
    "  parameters = {}\n",
    "  L = len(layer_dims)         \n",
    "\n",
    "  for l in range(1, L):\n",
    "\n",
    "    parameters['W' + str(l)] = np.ones((layer_dims[l-1], layer_dims[l]))*0.1\n",
    "    parameters['b' + str(l)] = np.zeros((layer_dims[l], 1))\n",
    "      \n",
    "\n",
    "  return parameters"
   ]
  },
  {
   "cell_type": "code",
   "execution_count": 45,
   "metadata": {},
   "outputs": [],
   "source": [
    "# Utility Functions\n",
    "def sigmoid(Z):\n",
    "  \n",
    "  A = 1/(1+np.exp(-Z))\n",
    "\n",
    "  return A"
   ]
  },
  {
   "cell_type": "code",
   "execution_count": 46,
   "metadata": {},
   "outputs": [],
   "source": [
    "def linear_forward(A_prev, W, b):\n",
    "  \n",
    "  Z = np.dot(W.T, A_prev) + b\n",
    "\n",
    "  A = sigmoid(Z)\n",
    "  \n",
    "  return A"
   ]
  },
  {
   "cell_type": "code",
   "execution_count": 47,
   "metadata": {},
   "outputs": [],
   "source": [
    "# L-layer feed forward\n",
    "\n",
    "def L_layer_forward(X, parameters):\n",
    "\n",
    "  A = X\n",
    "  L = len(parameters) // 2                  # number of layers in the neural network\n",
    "  \n",
    "  for l in range(1, L+1):\n",
    "    A_prev = A \n",
    "    Wl = parameters['W' + str(l)]\n",
    "    bl = parameters['b' + str(l)]\n",
    "    #print(\"A\"+str(l-1)+\": \", A_prev)\n",
    "    #print(\"W\"+str(l)+\": \", Wl)\n",
    "    #print(\"b\"+str(l)+\": \", bl)\n",
    "    #print(\"--\"*20)\n",
    "\n",
    "    A = linear_forward(A_prev, Wl, bl)\n",
    "    #print(\"A\"+str(l)+\": \", A)\n",
    "    #print(\"**\"*20)\n",
    "          \n",
    "  return A,A_prev\n"
   ]
  },
  {
   "cell_type": "code",
   "execution_count": 48,
   "metadata": {},
   "outputs": [],
   "source": [
    "def update_parameters(parameters,y,y_hat,A1,X):\n",
    "  parameters['W2'][0][0] = parameters['W2'][0][0] + (0.0001 * (y - y_hat)*A1[0][0])\n",
    "  parameters['W2'][1][0] = parameters['W2'][1][0] + (0.0001 * (y - y_hat)*A1[1][0])\n",
    "  parameters['b2'][0][0] = parameters['W2'][1][0] + (0.0001 * (y - y_hat))\n",
    "\n",
    "  parameters['W1'][0][0] = parameters['W1'][0][0] + (0.0001 * (y - y_hat)*parameters['W2'][0][0]*A1[0][0]*(1-A1[0][0])*X[0][0])\n",
    "  parameters['W1'][0][1] = parameters['W1'][0][1] + (0.0001 * (y - y_hat)*parameters['W2'][0][0]*A1[0][0]*(1-A1[0][0])*X[1][0])\n",
    "  parameters['b1'][0][0] = parameters['b1'][0][0] + (0.0001 * (y - y_hat)*parameters['W2'][0][0]*A1[0][0]*(1-A1[0][0]))\n",
    "\n",
    "  parameters['W1'][1][0] = parameters['W1'][1][0] + (0.0001 * (y - y_hat)*parameters['W2'][1][0]*A1[1][0]*(1-A1[1][0])*X[0][0])\n",
    "  parameters['W1'][1][1] = parameters['W1'][1][1] + (0.0001 * (y - y_hat)*parameters['W2'][1][0]*A1[1][0]*(1-A1[1][0])*X[1][0])\n",
    "  parameters['b1'][1][0] = parameters['b1'][1][0] + (0.0001 * (y - y_hat)*parameters['W2'][1][0]*A1[1][0]*(1-A1[1][0]))"
   ]
  },
  {
   "cell_type": "code",
   "execution_count": 49,
   "metadata": {},
   "outputs": [
    {
     "name": "stdout",
     "output_type": "stream",
     "text": [
      "Loss for this student -  0.613402628898913\n"
     ]
    },
    {
     "data": {
      "text/plain": [
       "{'W1': array([[0.10000513, 0.10000513],\n",
       "        [0.10000513, 0.10000513]]),\n",
       " 'b1': array([[6.41054186e-07],\n",
       "        [6.41054186e-07]]),\n",
       " 'W2': array([[0.10003815],\n",
       "        [0.10003815]]),\n",
       " 'b2': array([[0.100084]])}"
      ]
     },
     "execution_count": 49,
     "metadata": {},
     "output_type": "execute_result"
    }
   ],
   "source": [
    "X = df[['cgpa', 'profile_score']].values[0].reshape(2,1) # Shape(no of features, no. of training example)\n",
    "y = df[['placed']].values[0][0]\n",
    "\n",
    "# Parameter initialization\n",
    "parameters = initialize_parameters([2,2,1])\n",
    "\n",
    "y_hat,A1 = L_layer_forward(X,parameters)\n",
    "y_hat = y_hat[0][0]\n",
    "\n",
    "update_parameters(parameters,y,y_hat,A1,X)\n",
    "\n",
    "print('Loss for this student - ',-y*np.log(y_hat) - (1-y)*np.log(1-y_hat))\n",
    "\n",
    "parameters"
   ]
  },
  {
   "cell_type": "code",
   "execution_count": 50,
   "metadata": {},
   "outputs": [
    {
     "name": "stdout",
     "output_type": "stream",
     "text": [
      "Loss for this student -  0.568725622654268\n"
     ]
    },
    {
     "data": {
      "text/plain": [
       "{'W1': array([[0.10000937, 0.10001059],\n",
       "        [0.10000937, 0.10001059]]),\n",
       " 'b1': array([[1.24770113e-06],\n",
       "        [1.24770113e-06]]),\n",
       " 'W2': array([[0.10007424],\n",
       "        [0.10007424]]),\n",
       " 'b2': array([[0.10011761]])}"
      ]
     },
     "execution_count": 50,
     "metadata": {},
     "output_type": "execute_result"
    }
   ],
   "source": [
    "X = df[['cgpa', 'profile_score']].values[1].reshape(2,1) # Shape(no of features, no. of training example)\n",
    "y = df[['placed']].values[1][0]\n",
    "\n",
    "y_hat,A1 = L_layer_forward(X,parameters)\n",
    "y_hat = y_hat[0][0]\n",
    "\n",
    "update_parameters(parameters,y,y_hat,A1,X)\n",
    "\n",
    "print('Loss for this student - ',-y*np.log(y_hat) - (1-y)*np.log(1-y_hat))\n",
    "\n",
    "parameters"
   ]
  },
  {
   "cell_type": "code",
   "execution_count": 51,
   "metadata": {},
   "outputs": [
    {
     "name": "stdout",
     "output_type": "stream",
     "text": [
      "Loss for this student -  0.8353333695154365\n"
     ]
    },
    {
     "data": {
      "text/plain": [
       "{'W1': array([[0.10000463, 0.10000267],\n",
       "        [0.10000463, 0.10000267]]),\n",
       " 'b1': array([[4.56125378e-07],\n",
       "        [4.56135584e-07]]),\n",
       " 'W2': array([[0.10002712],\n",
       "        [0.10002712]]),\n",
       " 'b2': array([[0.09997049]])}"
      ]
     },
     "execution_count": 51,
     "metadata": {},
     "output_type": "execute_result"
    }
   ],
   "source": [
    "X = df[['cgpa', 'profile_score']].values[2].reshape(2,1) # Shape(no of features, no. of training example)\n",
    "y = df[['placed']].values[2][0]\n",
    "\n",
    "y_hat,A1 = L_layer_forward(X,parameters)\n",
    "y_hat = y_hat[0][0]\n",
    "\n",
    "update_parameters(parameters,y,y_hat,A1,X)\n",
    "\n",
    "print('Loss for this student - ',-y*np.log(y_hat) - (1-y)*np.log(1-y_hat))\n",
    "\n",
    "parameters"
   ]
  },
  {
   "cell_type": "code",
   "execution_count": 52,
   "metadata": {},
   "outputs": [
    {
     "name": "stdout",
     "output_type": "stream",
     "text": [
      "Loss for this student -  0.8238180133031612\n"
     ]
    },
    {
     "data": {
      "text/plain": [
       "{'W1': array([[0.09999911, 0.09999716],\n",
       "        [0.09999911, 0.09999716]]),\n",
       " 'b1': array([[-6.47175329e-07],\n",
       "        [-6.47175081e-07]]),\n",
       " 'W2': array([[0.09998609],\n",
       "        [0.09998609]]),\n",
       " 'b2': array([[0.09992997]])}"
      ]
     },
     "execution_count": 52,
     "metadata": {},
     "output_type": "execute_result"
    }
   ],
   "source": [
    "X = df[['cgpa', 'profile_score']].values[3].reshape(2,1) # Shape(no of features, no. of training example)\n",
    "y = df[['placed']].values[3][0]\n",
    "\n",
    "y_hat,A1 = L_layer_forward(X,parameters)\n",
    "y_hat = y_hat[0][0]\n",
    "\n",
    "update_parameters(parameters,y,y_hat,A1,X)\n",
    "\n",
    "print('Loss for this student - ',-y*np.log(y_hat) - (1-y)*np.log(1-y_hat))\n",
    "\n",
    "parameters"
   ]
  },
  {
   "cell_type": "code",
   "execution_count": 53,
   "metadata": {},
   "outputs": [
    {
     "name": "stdout",
     "output_type": "stream",
     "text": [
      "Epoch -  1 Loss -  0.7103199085929446\n",
      "Epoch -  2 Loss -  0.6991702892802629\n",
      "Epoch -  3 Loss -  0.6991679314811485\n",
      "Epoch -  4 Loss -  0.6991655746710999\n",
      "Epoch -  5 Loss -  0.6991632188496667\n",
      "Epoch -  6 Loss -  0.699160864016399\n",
      "Epoch -  7 Loss -  0.6991585101708473\n",
      "Epoch -  8 Loss -  0.6991561573125619\n",
      "Epoch -  9 Loss -  0.6991538054410936\n",
      "Epoch -  10 Loss -  0.6991514545559935\n",
      "Epoch -  11 Loss -  0.6991491046568126\n",
      "Epoch -  12 Loss -  0.6991467557431024\n",
      "Epoch -  13 Loss -  0.6991444078144144\n",
      "Epoch -  14 Loss -  0.6991420608703007\n",
      "Epoch -  15 Loss -  0.6991397149103132\n",
      "Epoch -  16 Loss -  0.6991373699340042\n",
      "Epoch -  17 Loss -  0.6991350259409265\n",
      "Epoch -  18 Loss -  0.6991326829306324\n",
      "Epoch -  19 Loss -  0.6991303409026751\n",
      "Epoch -  20 Loss -  0.699127999856608\n",
      "Epoch -  21 Loss -  0.6991256597919842\n",
      "Epoch -  22 Loss -  0.6991233207083575\n",
      "Epoch -  23 Loss -  0.6991209826052818\n",
      "Epoch -  24 Loss -  0.699118645482311\n",
      "Epoch -  25 Loss -  0.6991163093389996\n",
      "Epoch -  26 Loss -  0.699113974174902\n",
      "Epoch -  27 Loss -  0.6991116399895729\n",
      "Epoch -  28 Loss -  0.6991093067825676\n",
      "Epoch -  29 Loss -  0.699106974553441\n",
      "Epoch -  30 Loss -  0.6991046433017485\n",
      "Epoch -  31 Loss -  0.6991023130270458\n",
      "Epoch -  32 Loss -  0.699099983728889\n",
      "Epoch -  33 Loss -  0.6990976554068338\n",
      "Epoch -  34 Loss -  0.6990953280604367\n",
      "Epoch -  35 Loss -  0.6990930016892543\n",
      "Epoch -  36 Loss -  0.6990906762928432\n",
      "Epoch -  37 Loss -  0.6990883518707602\n",
      "Epoch -  38 Loss -  0.6990860284225631\n",
      "Epoch -  39 Loss -  0.6990837059478086\n",
      "Epoch -  40 Loss -  0.6990813844460546\n",
      "Epoch -  41 Loss -  0.699079063916859\n",
      "Epoch -  42 Loss -  0.6990767443597797\n",
      "Epoch -  43 Loss -  0.6990744257743753\n",
      "Epoch -  44 Loss -  0.699072108160204\n",
      "Epoch -  45 Loss -  0.6990697915168249\n",
      "Epoch -  46 Loss -  0.6990674758437966\n",
      "Epoch -  47 Loss -  0.6990651611406782\n",
      "Epoch -  48 Loss -  0.6990628474070294\n",
      "Epoch -  49 Loss -  0.6990605346424095\n",
      "Epoch -  50 Loss -  0.6990582228463785\n"
     ]
    },
    {
     "data": {
      "text/plain": [
       "{'W1': array([[0.09994267, 0.09984548],\n",
       "        [0.09994272, 0.09984548]]),\n",
       " 'b1': array([[-3.38405750e-05],\n",
       "        [-3.38419977e-05]]),\n",
       " 'W2': array([[0.09920806],\n",
       "        [0.09920816]]),\n",
       " 'b2': array([[0.09915209]])}"
      ]
     },
     "execution_count": 53,
     "metadata": {},
     "output_type": "execute_result"
    }
   ],
   "source": [
    "# epochs implementation\n",
    "\n",
    "parameters = initialize_parameters([2,2,1])\n",
    "epochs = 50\n",
    "\n",
    "for i in range(epochs):\n",
    "\n",
    "  Loss = []\n",
    "\n",
    "  for j in range(df.shape[0]):\n",
    "\n",
    "    X = df[['cgpa', 'profile_score']].values[j].reshape(2,1) # Shape(no of features, no. of training example)\n",
    "    y = df[['placed']].values[j][0]\n",
    "\n",
    "    # Parameter initialization\n",
    "\n",
    "\n",
    "    y_hat,A1 = L_layer_forward(X,parameters)\n",
    "    y_hat = y_hat[0][0]\n",
    "\n",
    "    update_parameters(parameters,y,y_hat,A1,X)\n",
    "\n",
    "    Loss.append(-y*np.log(y_hat) - (1-y)*np.log(1-y_hat))\n",
    "\n",
    "  print('Epoch - ',i+1,'Loss - ',np.array(Loss).mean())\n",
    "\n",
    "parameters"
   ]
  },
  {
   "cell_type": "code",
   "execution_count": null,
   "metadata": {},
   "outputs": [],
   "source": []
  }
 ],
 "metadata": {
  "kernelspec": {
   "display_name": "flask_env",
   "language": "python",
   "name": "python3"
  },
  "language_info": {
   "codemirror_mode": {
    "name": "ipython",
    "version": 3
   },
   "file_extension": ".py",
   "mimetype": "text/x-python",
   "name": "python",
   "nbconvert_exporter": "python",
   "pygments_lexer": "ipython3",
   "version": "3.12.4"
  }
 },
 "nbformat": 4,
 "nbformat_minor": 2
}
